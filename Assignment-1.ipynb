{
  "nbformat": 4,
  "nbformat_minor": 0,
  "metadata": {
    "colab": {
      "name": "Untitled0.ipynb",
      "provenance": [],
      "collapsed_sections": [],
      "authorship_tag": "ABX9TyOne4cUgrvFh7v+vHPg5MZW",
      "include_colab_link": true
    },
    "kernelspec": {
      "name": "python3",
      "display_name": "Python 3"
    },
    "language_info": {
      "name": "python"
    }
  },
  "cells": [
    {
      "cell_type": "markdown",
      "metadata": {
        "id": "view-in-github",
        "colab_type": "text"
      },
      "source": [
        "<a href=\"https://colab.research.google.com/github/saiashok/END2.0_Learning/blob/main/Assignment-1.ipynb\" target=\"_parent\"><img src=\"https://colab.research.google.com/assets/colab-badge.svg\" alt=\"Open In Colab\"/></a>"
      ]
    },
    {
      "cell_type": "code",
      "metadata": {
        "id": "t5cmnI3SRf0M",
        "colab": {
          "base_uri": "https://localhost:8080/"
        },
        "outputId": "65d249d8-50a3-43b3-bd31-fb9ecec4c82a"
      },
      "source": [
        "import torch\n",
        "from torch.autograd import Variable\n",
        "import torch.nn as nn\n",
        "import torch.nn.functional as F\n",
        "import torch.optim as optim\n",
        "import numpy as np\n",
        "import matplotlib.pyplot as plt\n",
        "%matplotlib inline\n",
        "torch.manual_seed(2)"
      ],
      "execution_count": 16,
      "outputs": [
        {
          "output_type": "execute_result",
          "data": {
            "text/plain": [
              "<torch._C.Generator at 0x7f738f03a8d0>"
            ]
          },
          "metadata": {
            "tags": []
          },
          "execution_count": 16
        }
      ]
    },
    {
      "cell_type": "code",
      "metadata": {
        "id": "oZoEPURKZiOU"
      },
      "source": [
        "X=torch.Tensor([[0,0], [0,1], [1,0], [1,1]])\n",
        "Y =torch.Tensor([0,1,1,0]).view(-1,1)"
      ],
      "execution_count": 17,
      "outputs": []
    },
    {
      "cell_type": "code",
      "metadata": {
        "id": "PVPXw5Gqex90"
      },
      "source": [
        "class XOR(nn.Module):\n",
        "  def __init__(self, input_dim=2, output_dim=1):\n",
        "    super(XOR, self).__init__()\n",
        "    self.lin1= nn.Linear(input_dim,14)\n",
        "    self.lin2= nn.Linear(14, output_dim)\n",
        "\n",
        "  def forward(self, x):\n",
        "    x=self.lin1(x)\n",
        "    x=F.tanh(x)\n",
        "    x=self.lin2(x)\n",
        "    # x=F.tanh(x)\n",
        "    return x"
      ],
      "execution_count": 18,
      "outputs": []
    },
    {
      "cell_type": "code",
      "metadata": {
        "colab": {
          "base_uri": "https://localhost:8080/"
        },
        "id": "I6IJHjmyfy5-",
        "outputId": "49ce5d4d-cc6c-4b8b-e599-f53c50d0e0e3"
      },
      "source": [
        "model = XOR()\n",
        "print(model)\n",
        "from torchsummary import summary\n",
        "summary(model, (2,2))"
      ],
      "execution_count": 19,
      "outputs": [
        {
          "output_type": "stream",
          "text": [
            "XOR(\n",
            "  (lin1): Linear(in_features=2, out_features=14, bias=True)\n",
            "  (lin2): Linear(in_features=14, out_features=1, bias=True)\n",
            ")\n",
            "----------------------------------------------------------------\n",
            "        Layer (type)               Output Shape         Param #\n",
            "================================================================\n",
            "            Linear-1                [-1, 2, 14]              42\n",
            "            Linear-2                 [-1, 2, 1]              15\n",
            "================================================================\n",
            "Total params: 57\n",
            "Trainable params: 57\n",
            "Non-trainable params: 0\n",
            "----------------------------------------------------------------\n",
            "Input size (MB): 0.00\n",
            "Forward/backward pass size (MB): 0.00\n",
            "Params size (MB): 0.00\n",
            "Estimated Total Size (MB): 0.00\n",
            "----------------------------------------------------------------\n"
          ],
          "name": "stdout"
        },
        {
          "output_type": "stream",
          "text": [
            "/usr/local/lib/python3.7/dist-packages/torch/nn/functional.py:1698: UserWarning: nn.functional.tanh is deprecated. Use torch.tanh instead.\n",
            "  warnings.warn(\"nn.functional.tanh is deprecated. Use torch.tanh instead.\")\n"
          ],
          "name": "stderr"
        }
      ]
    },
    {
      "cell_type": "code",
      "metadata": {
        "id": "gsKJkHK8gnGE"
      },
      "source": [
        "def weights_init(model):\n",
        "  for m in model.modules():\n",
        "    if isinstance(m, nn.Linear):\n",
        "      m.weight.data.normal_(0,1)\n",
        "\n",
        "weights_init(model)"
      ],
      "execution_count": 20,
      "outputs": []
    },
    {
      "cell_type": "code",
      "metadata": {
        "id": "Ew7_Tl7zg8He"
      },
      "source": [
        "loss_func = nn.L1Loss()"
      ],
      "execution_count": 21,
      "outputs": []
    },
    {
      "cell_type": "code",
      "metadata": {
        "id": "0gWXiVRZhBuU"
      },
      "source": [
        "optimizer =optim.SGD(model.parameters(), lr=0.02, momentum=0.9)"
      ],
      "execution_count": 22,
      "outputs": []
    },
    {
      "cell_type": "code",
      "metadata": {
        "colab": {
          "base_uri": "https://localhost:8080/"
        },
        "id": "rderXUY1h5_4",
        "outputId": "2f569f7b-98b1-463a-ab62-44e0ee1e3ae9"
      },
      "source": [
        "epochs = 2001\n",
        "steps = X.size(0)\n",
        "for i in range(epochs):\n",
        "  for j in range(steps):\n",
        "    data_point = np.random.randint(X.size(0))\n",
        "    x_var = Variable(X[data_point], requires_grad=False)\n",
        "    y_var = Variable(Y[data_point], requires_grad=False)\n",
        "\n",
        "    optimizer.zero_grad()\n",
        "    y_hat = model(x_var)\n",
        "    loss = loss_func.forward(y_hat, y_var)\n",
        "    loss.backward()\n",
        "    optimizer.step()\n",
        "\n",
        "  if i% 50 ==0:\n",
        "    print(\"Epoch: {0}, Loss: {1}, \".format(i, loss.data.numpy()))"
      ],
      "execution_count": 23,
      "outputs": [
        {
          "output_type": "stream",
          "text": [
            "Epoch: 0, Loss: 1.0705640316009521, \n",
            "Epoch: 50, Loss: 0.4936045706272125, \n"
          ],
          "name": "stdout"
        },
        {
          "output_type": "stream",
          "text": [
            "/usr/local/lib/python3.7/dist-packages/torch/nn/functional.py:1698: UserWarning: nn.functional.tanh is deprecated. Use torch.tanh instead.\n",
            "  warnings.warn(\"nn.functional.tanh is deprecated. Use torch.tanh instead.\")\n"
          ],
          "name": "stderr"
        },
        {
          "output_type": "stream",
          "text": [
            "Epoch: 100, Loss: 0.10315880179405212, \n",
            "Epoch: 150, Loss: 0.542658805847168, \n",
            "Epoch: 200, Loss: 0.20716936886310577, \n",
            "Epoch: 250, Loss: 0.14539754390716553, \n",
            "Epoch: 300, Loss: 0.26408088207244873, \n",
            "Epoch: 350, Loss: 0.2351556420326233, \n",
            "Epoch: 400, Loss: 0.5635983943939209, \n",
            "Epoch: 450, Loss: 0.0699060708284378, \n",
            "Epoch: 500, Loss: 0.40554118156433105, \n",
            "Epoch: 550, Loss: 0.08958101272583008, \n",
            "Epoch: 600, Loss: 0.552463173866272, \n",
            "Epoch: 650, Loss: 0.09585392475128174, \n",
            "Epoch: 700, Loss: 0.22494778037071228, \n",
            "Epoch: 750, Loss: 0.19583465158939362, \n",
            "Epoch: 800, Loss: 0.11157751083374023, \n",
            "Epoch: 850, Loss: 0.11416810750961304, \n",
            "Epoch: 900, Loss: 0.29933834075927734, \n",
            "Epoch: 950, Loss: 0.4863778352737427, \n",
            "Epoch: 1000, Loss: 0.16320586204528809, \n",
            "Epoch: 1050, Loss: 0.2952965497970581, \n",
            "Epoch: 1100, Loss: 0.13800501823425293, \n",
            "Epoch: 1150, Loss: 0.05756175518035889, \n",
            "Epoch: 1200, Loss: 0.14564108848571777, \n",
            "Epoch: 1250, Loss: 0.15874463319778442, \n",
            "Epoch: 1300, Loss: 0.0018818378448486328, \n",
            "Epoch: 1350, Loss: 0.38346442580223083, \n",
            "Epoch: 1400, Loss: 0.0286862850189209, \n",
            "Epoch: 1450, Loss: 0.5681118965148926, \n",
            "Epoch: 1500, Loss: 0.3618236780166626, \n",
            "Epoch: 1550, Loss: 0.48094916343688965, \n",
            "Epoch: 1600, Loss: 0.6618297100067139, \n",
            "Epoch: 1650, Loss: 0.20825311541557312, \n",
            "Epoch: 1700, Loss: 0.4693000614643097, \n",
            "Epoch: 1750, Loss: 0.18037867546081543, \n",
            "Epoch: 1800, Loss: 0.09743785858154297, \n",
            "Epoch: 1850, Loss: 0.13730132579803467, \n",
            "Epoch: 1900, Loss: 0.4413118362426758, \n",
            "Epoch: 1950, Loss: 0.0662832260131836, \n",
            "Epoch: 2000, Loss: 0.4035719037055969, \n"
          ],
          "name": "stdout"
        }
      ]
    }
  ]
}